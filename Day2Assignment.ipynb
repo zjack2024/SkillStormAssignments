{
 "cells": [
  {
   "cell_type": "markdown",
   "metadata": {},
   "source": [
    "Exercise 1"
   ]
  },
  {
   "cell_type": "code",
   "execution_count": 4,
   "metadata": {},
   "outputs": [
    {
     "name": "stdout",
     "output_type": "stream",
     "text": [
      "True\n",
      "True\n",
      "False\n",
      "True\n",
      "False\n"
     ]
    }
   ],
   "source": [
    "user = input(\"Please Enter: \")\n",
    "#1\n",
    "value= False\n",
    "for i in user:\n",
    "    if i.isalnum():\n",
    "        print(True)\n",
    "        value=True\n",
    "        break\n",
    "if not value:\n",
    "    print(False)\n",
    "value = False\n",
    "#2\n",
    "for i in user:\n",
    "    if i.isalpha():\n",
    "        print(True)\n",
    "        value=True\n",
    "        break\n",
    "if not value:\n",
    "    print(False)\n",
    "value = False\n",
    "#3\n",
    "for i in user:\n",
    "    if i.isdigit():\n",
    "        print(True)\n",
    "        value=True\n",
    "        break\n",
    "if not value:\n",
    "    print(False)\n",
    "value = False\n",
    "#4\n",
    "for i in user:\n",
    "    if i.islower():\n",
    "        print(True)\n",
    "        value=True\n",
    "        break\n",
    "if not value:\n",
    "    print(False)\n",
    "value = False\n",
    "#5\n",
    "for i in user:\n",
    "    if i.isupper():\n",
    "        print(True)\n",
    "        value=True\n",
    "        break\n",
    "if not value:\n",
    "    print(False)\n",
    "value = False"
   ]
  },
  {
   "cell_type": "markdown",
   "metadata": {},
   "source": [
    "Exercise 2"
   ]
  },
  {
   "cell_type": "code",
   "execution_count": 5,
   "metadata": {},
   "outputs": [],
   "source": [
    "import re"
   ]
  },
  {
   "cell_type": "code",
   "execution_count": 7,
   "metadata": {},
   "outputs": [],
   "source": [
    "#1\n",
    "first = r'^\\w*'\n",
    "#2\n",
    "second = r'(\\s\\d)'\n",
    "#3\n",
    "third = r'\\w*[.?!]$'\n",
    "#4\n",
    "fourth = '[123]*'\n",
    "#5\n",
    "fifth = r'\\w*\\w{2}\\w*'\n",
    "#no idea how to do 5\n"
   ]
  },
  {
   "cell_type": "markdown",
   "metadata": {},
   "source": [
    "Exercise 3"
   ]
  },
  {
   "cell_type": "code",
   "execution_count": 29,
   "metadata": {},
   "outputs": [],
   "source": [
    "output_file = \"./20240617-DE-TS-LectureMaterials/Python/Data/Pride_and_Prejudice.txt\""
   ]
  },
  {
   "cell_type": "code",
   "execution_count": 47,
   "metadata": {},
   "outputs": [
    {
     "name": "stdout",
     "output_type": "stream",
     "text": [
      "124465\n"
     ]
    }
   ],
   "source": [
    "f = open(file =output_file, mode = 'rt', encoding='utf-8')\n",
    "\n",
    "f.seek(1990)\n",
    "text= f.read().split()\n",
    "print(len(text))\n",
    "f.close()"
   ]
  },
  {
   "cell_type": "markdown",
   "metadata": {},
   "source": [
    "Exercise 4"
   ]
  },
  {
   "cell_type": "code",
   "execution_count": 49,
   "metadata": {},
   "outputs": [
    {
     "name": "stdout",
     "output_type": "stream",
     "text": [
      "4\n"
     ]
    }
   ],
   "source": [
    "vowels = \"aeiouAEIOU\"\n",
    "def score(string):\n",
    "    score = 0\n",
    "    words=string.split()\n",
    "    for w in words:\n",
    "        count = sum(w.count(vowel) for vowel in vowels)\n",
    "        if count%2==0:\n",
    "            score= score +2\n",
    "        else:\n",
    "            score = score +1\n",
    "    return score\n",
    "\n",
    "example = \"programming is awesome\"\n",
    "\n",
    "print(score(example))"
   ]
  }
 ],
 "metadata": {
  "kernelspec": {
   "display_name": "Python 3",
   "language": "python",
   "name": "python3"
  },
  "language_info": {
   "codemirror_mode": {
    "name": "ipython",
    "version": 3
   },
   "file_extension": ".py",
   "mimetype": "text/x-python",
   "name": "python",
   "nbconvert_exporter": "python",
   "pygments_lexer": "ipython3",
   "version": "3.12.4"
  }
 },
 "nbformat": 4,
 "nbformat_minor": 2
}
