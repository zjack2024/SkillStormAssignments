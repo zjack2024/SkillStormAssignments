{
 "cells": [
  {
   "cell_type": "code",
   "execution_count": 6,
   "metadata": {},
   "outputs": [],
   "source": [
    "import json\n",
    "import requests\n",
    "import os\n",
    "from requests_oauthlib import OAuth1"
   ]
  },
  {
   "cell_type": "code",
   "execution_count": 36,
   "metadata": {},
   "outputs": [
    {
     "name": "stdout",
     "output_type": "stream",
     "text": [
      "b'<!DOCTYPE HTML PUBLIC \"-//W3C//DTD HTML 3.2 Final//EN\">\\n<title>401 Unauthorized</title>\\n<h1>Unauthorized</h1>\\n<p>Unknown client_key</p>\\n'\n"
     ]
    }
   ],
   "source": [
    "#oauth\n",
    "\n",
    "import constants\n",
    "secret_noun='ba9e342ffe4b4432842c805f5c2ec62b'\n",
    "noun_auth=OAuth1(api_noun,secret_noun)\n",
    "noun_base='https://api.thenounproject.com/v2/icon/1'\n",
    "noun_response=requests.get(noun_base,auth=noun_auth)\n",
    "\n",
    "print(noun_response.content)"
   ]
  },
  {
   "cell_type": "code",
   "execution_count": 57,
   "metadata": {},
   "outputs": [
    {
     "name": "stdout",
     "output_type": "stream",
     "text": [
      "b'<?xml version=\"1.0\" encoding=\"UTF-8\"?><randomrecommendation>\\n<recommendation>\\n<anime id=\"9016\" restricted=\"false\">\\n<type>TV Series</type>\\n<episodecount>258</episodecount>\\n<startdate>2012-04-01</startdate>\\n<enddate>2017-03-26</enddate>\\n<title xml:lang=\"x-jat\" type=\"main\">Furusato Saisei Nippon no Mukashibanashi</title>\\n<picture>82617.jpg</picture>\\n<ratings>\\n<permanent count=\"157\">532</permanent>\\n<recommendations>3</recommendations>\\n</ratings>\\n</anime>\\n</recommendation>\\n<recommendation>\\n<anime id=\"407\" restricted=\"false\">\\n<type>TV Series</type>\\n<episodecount>13</episodecount>\\n<startdate>2000-01-26</startdate>\\n<enddate>2000-04-19</enddate>\\n<title xml:lang=\"x-jat\" type=\"main\">Kazemakase Tsukikage Ran</title>\\n<picture>152849.jpg</picture>\\n<ratings>\\n<permanent count=\"1283\">591</permanent>\\n<recommendations>9</recommendations>\\n</ratings>\\n</anime>\\n</recommendation>\\n<recommendation>\\n<anime id=\"741\" restricted=\"false\">\\n<type>TV Series</type>\\n<episodecount>26</episodecount>\\n<startdate>1996-10-04</startdate>\\n<enddate>1997-03-28</enddate>\\n<title xml:lang=\"x-jat\" type=\"main\">Mahou Shoujo Pretty Sammy (1996)</title>\\n<picture>152798.jpg</picture>\\n<ratings>\\n<permanent count=\"254\">520</permanent>\\n<recommendations>2</recommendations>\\n</ratings>\\n</anime>\\n</recommendation>\\n<recommendation>\\n<anime id=\"11736\" restricted=\"false\">\\n<type>TV Series</type>\\n<episodecount>12</episodecount>\\n<startdate>2016-07-04</startdate>\\n<enddate>2016-09-19</enddate>\\n<title xml:lang=\"x-jat\" type=\"main\">New Game!</title>\\n<picture>268766.jpg</picture>\\n<ratings>\\n<permanent count=\"2579\">669</permanent>\\n<recommendations>7</recommendations>\\n</ratings>\\n</anime>\\n</recommendation>\\n<recommendation>\\n<anime id=\"7654\" restricted=\"false\">\\n<type>OVA</type>\\n<episodecount>22</episodecount>\\n<startdate>2011-02-23</startdate>\\n<enddate>2011-04-06</enddate>\\n<title xml:lang=\"x-jat\" type=\"main\">Supernatural</title>\\n<picture>54079.jpg</picture>\\n<ratings>\\n<permanent count=\"425\">535</permanent>\\n<recommendations>7</recommendations>\\n</ratings>\\n</anime>\\n</recommendation>\\n<recommendation>\\n<anime id=\"17118\" restricted=\"false\">\\n<type>TV Series</type>\\n<episodecount>12</episodecount>\\n<startdate>2022-07-02</startdate>\\n<enddate>2022-09-24</enddate>\\n<title xml:lang=\"x-jat\" type=\"main\">Teppen!!!!!!!!!!!!!!!</title>\\n<picture>274909.jpg</picture>\\n<ratings>\\n<permanent count=\"145\">382</permanent>\\n<recommendations>1</recommendations>\\n</ratings>\\n</anime>\\n</recommendation>\\n<recommendation>\\n<anime id=\"4325\" restricted=\"false\">\\n<type>TV Series</type>\\n<episodecount>13</episodecount>\\n<startdate>2008-01-06</startdate>\\n<enddate>2008-03-30</enddate>\\n<title xml:lang=\"x-jat\" type=\"main\">True Tears</title>\\n<picture>221870.jpg</picture>\\n<ratings>\\n<permanent count=\"4561\">701</permanent>\\n<recommendations>57</recommendations>\\n</ratings>\\n</anime>\\n</recommendation>\\n<recommendation>\\n<anime id=\"14374\" restricted=\"false\">\\n<type>Web</type>\\n<episodecount>16</episodecount>\\n<startdate>2018-07-18</startdate>\\n<enddate>2018-10-10</enddate>\\n<title xml:lang=\"x-jat\" type=\"main\">Xixing Ji</title>\\n<picture>223171.jpg</picture>\\n<ratings>\\n<permanent count=\"27\">502</permanent>\\n<recommendations>1</recommendations>\\n</ratings>\\n</anime>\\n</recommendation>\\n<recommendation>\\n<anime id=\"4734\" restricted=\"false\">\\n<type>TV Series</type>\\n<episodecount>25</episodecount>\\n<startdate>2006-10-04</startdate>\\n<enddate>2007-03-28</enddate>\\n<title xml:lang=\"x-jat\" type=\"main\">Yamato Nadeshiko Shichi Henge</title>\\n<picture>11302.jpg</picture>\\n<ratings>\\n<permanent count=\"2591\">651</permanent>\\n<recommendations>25</recommendations>\\n</ratings>\\n</anime>\\n</recommendation>\\n<recommendation>\\n<anime id=\"17444\" restricted=\"false\">\\n<type>TV Series</type>\\n<episodecount>13</episodecount>\\n<startdate>2022-10-01</startdate>\\n<enddate>2022-12-24</enddate>\\n<title xml:lang=\"x-jat\" type=\"main\">Yuusha Party o Tsuihou Sareta Beast Tamer, Saikyoushu no Nekomimi Shoujo to Deau</title>\\n<picture>275896.jpg</picture>\\n<ratings>\\n<permanent count=\"772\">405</permanent>\\n<recommendations>5</recommendations>\\n</ratings>\\n</anime>\\n</recommendation>\\n</randomrecommendation>\\n'\n"
     ]
    }
   ],
   "source": [
    "#apikey\n",
    "\n",
    "anime_base='http://api.anidb.net:9001/httpapi?'\n",
    "anime_api='&client=jack&clientver=9&protover=1&request=randomrecommendation'\n",
    "anime_response=requests.get(anime_base+anime_api)\n",
    "print(anime_response.content)"
   ]
  },
  {
   "cell_type": "code",
   "execution_count": 59,
   "metadata": {},
   "outputs": [
    {
     "name": "stdout",
     "output_type": "stream",
     "text": [
      "b'<!DOCTYPE html>\\n<html ng-app=\"catfacts\">\\n\\n<head>\\n    <title ng-bind-template=\"{{$state.params.animal | capitalize}} Facts\"></title>\\n\\n    <!-- Meta -->\\n    <meta name=\"viewport\" content=\"width=device-width, initial-scale=1.0\" />\\n    <meta name=\"mobile-web-app-capable\" content=\"yes\" />\\n    <meta name=\"apple-mobile-web-app-capable\" content=\"yes\" />\\n\\n    <!-- Manifest -->\\n    <link rel=\"manifest\" href=\"config/manifest.json\">\\n    <link rel=\"icon\" type=\"image/png\" href=\"https://cat-fact.herokuapp.com/img/logo/favicon.ico\" />\\n\\n    <link rel=\"stylesheet\" href=\"css/style.css\">\\n    <!--<link rel=\"stylesheet\" href=\"https://fonts.googleapis.com/css?family=Roboto:400,500,700\">-->\\n    <link href=\"https://fonts.googleapis.com/css?family=Raleway:700,800|Roboto:400,500,700\" rel=\"stylesheet\">\\n    <link rel=\"stylesheet\" href=\"https://fonts.googleapis.com/icon?family=Material+Icons\" />\\n    <link rel=\"stylesheet\" href=\"https://ajax.googleapis.com/ajax/libs/angular_material/1.1.9/angular-material.css\" />\\n    <link rel=\"stylesheet\" href=\"https://cdn.rawgit.com/daniel-nagy/md-data-table/master/dist/md-data-table.min.css\" />\\n    <link rel=\"stylesheet\" href=\"https://cdn.rawgit.com/revolunet/angular-carousel/master/dist/angular-carousel.css\" type=\"text/css\" />\\n</head>\\n\\n<body ng-controller=\"MainCtrl\" layout=\"column\" ng-cloak md-theme=\"$state.params.animal\">\\n\\n    <md-toolbar class=\"md-whiteframe-2dp\">\\n        <div class=\"md-toolbar-tools\">\\n            <img ng-if=\"$state.params.animal\" ng-src=\"{{\\'img/logo/animals/\\' + $state.params.animal + \\'.png\\'}}\" ui-sref=\"home\" ng-hide=\"$state.current.name == \\'home\\' || $state.current.data.showBackButton\" class=\"width-40 margin-10 pointer\" />\\n\\n            <md-button class=\"md-icon-button\" ng-click=\"goBack()\" ng-show=\"$state.current.data.showBackButton\">\\n\\n                <md-icon class=\"material-icons\">arrow_back</md-icon>\\n            </md-button>\\n\\n            <md-menu md-position-mode=\"target-left target\">\\n                <span class=\"title pointer\" ng-mouseover=\"$mdMenu.open()\" aria-label=\"Switch site\">\\n\\t\\t\\t\\t\\t\\n\\t\\t\\t\\t\\t{{$state.params.animal | capitalize}} Facts\\n\\t\\t\\t\\t</span>\\n\\n                <md-menu-content ng-mouseleave=\"$mdMenu.close()\">\\n                    <md-menu-item ng-repeat=\"animal in animals\">\\n                        <md-button ng-click=\"$state.go($state.current.name, {animal: animal.name})\" ng-class=\"{\\'md-primary bold\\': animal.name == $state.params.animal}\">\\n                            {{animal.name | capitalize}} Facts\\n                        </md-button>\\n                    </md-menu-item>\\n                </md-menu-content>\\n            </md-menu>\\n\\n            <span flex></span>\\n\\n            <md-menu md-position-mode=\"target-right target\" ng-if=\"authenticatedUser\">\\n                <md-button ng-click=\"$mdOpenMenu($event)\" aria-label=\"Profile\" class=\"md-icon-button sign-out-button\">\\n                    <md-tooltip md-direction=\"bottom\">Profile</md-tooltip>\\n\\n                    <img ng-src=\"{{authenticatedUser.photo}}\" class=\"avatar small md-whiteframe-1dp\" alt=\"{{authenticatedUser.email}}\" />\\n                </md-button>\\n\\n                <md-menu-content>\\n                    <md-menu-item>\\n                        <md-button ng-click=\"openProfile($event)\">\\n                            My profile\\n                        </md-button>\\n                    </md-menu-item>\\n\\n                    <md-menu-item>\\n                        <md-button ng-click=\"ApiService.signOut()\">\\n                            Sign out\\n                        </md-button>\\n                    </md-menu-item>\\n                </md-menu-content>\\n            </md-menu>\\n\\n            <md-menu md-position-mode=\"target-right target\">\\n                <md-button ng-click=\"$mdOpenMenu($event)\" aria-label=\"Menu\" class=\"md-icon-button\">\\n                    <md-tooltip md-direction=\"button\">Menu</md-tooltip>\\n                    <md-icon class=\"material-icons grey\">more_vert</md-icon>\\n                </md-button>\\n\\n                <md-menu-content>\\n                    <md-menu-item aria-label=\"donate\">\\n                        <md-button ng-href=\"http://bit.ly/2tC599V\" target=\"_blank\">\\n                            <md-icon class=\"material-icons\">attach_money</md-icon>\\n                            Donate\\n                        </md-button>\\n                    </md-menu-item>\\n\\n                    <md-menu-item aria-label=\"report bug\">\\n                        <md-button ng-href=\"https://github.com/alexwohlbruck/cat-facts/issues\" target=\"_blank\">\\n                            <md-icon class=\"material-icons\">bug_report</md-icon>\\n                            Report bug or request feature\\n                        </md-button>\\n                    </md-menu-item>\\n\\n                    <md-menu-item aria-label=\"developer api\">\\n                        <md-button ng-href=\"https://alexwohlbruck.github.io/cat-facts/docs/\" target=\"_blank\">\\n                            <md-icon class=\"material-icons\">code</md-icon>\\n                            Developer API\\n                        </md-button>\\n                    </md-menu-item>\\n\\n                    <md-menu-item aria-label=\"github\">\\n                        <md-button ng-href=\"https://github.com/alexwohlbruck/cat-facts\" target=\"_blank\">\\n                            <md-icon md-svg-src=\"/img/res/svg/github-logo.svg\"></md-icon>\\n                            View on Github\\n                    </md-menu-item>\\n\\n                    <md-menu-item aria-label=\"about\">\\n                        <md-button ng-click=\"openAbout($event)\">\\n                            <md-icon class=\"material-icons\">info</md-icon>\\n                            About Cat Facts\\n                        </md-button>\\n                    </md-menu-item>\\n                </md-menu-content>\\n            </md-menu>\\n        </div>\\n\\n        <md-nav-bar md-selected-nav-item=\"startingState\" nav-bar-aria-label=\"Navigation\" ng-if=\"$state.current.data.showInNavigation || $state.current.data.showNavigation\" class=\"transparent-bg\">\\n\\n            <md-nav-item ng-repeat=\"state in $state.get()\" md-nav-sref=\"{{state.name}}\" name=\"{{state.name}}\" ng-if=\"state.data.showInNavigation && (state.data.adminRequired ? authenticatedUser.isAdmin : true)\">\\n\\n                {{state.name}}\\n            </md-nav-item>\\n        </md-nav-bar>\\n    </md-toolbar>\\n\\n    <md-content flex id=\"main-content\">\\n        <ui-view layout-padding></ui-view>\\n    </md-content>\\n\\n    <md-button class=\"md-fab md-accent md-fab-bottom-right\" ng-click=\"showCatFact()\" aria-label=\"Get a fact fact\" ng-show=\"$state.current.data.showInNavigation || $state.current.data.showNavigation\">\\n\\n        <md-icon class=\"material-icons\">message</md-icon>\\n\\n        <md-tooltip md-direction=\"left\">Get a {{$state.params.animal}} fact</md-tooltip>\\n    </md-button>\\n\\n    <!-- AngularJS -->\\n    <script src=\"https://ajax.googleapis.com/ajax/libs/angularjs/1.5.6/angular.js\"></script>\\n\\n    <!-- Dependencies -->\\n    <script src=\"https://cdnjs.cloudflare.com/ajax/libs/moment.js/2.24.0/moment.min.js\"></script>\\n    <script src=\"https://unpkg.com/colcade@0/colcade.js\"></script>\\n\\n    <!-- Angular Dependencies -->\\n    <script src=\"https://cdnjs.cloudflare.com/ajax/libs/angular-ui-router/0.3.1/angular-ui-router.js\"></script>\\n    <script src=\"https://ajax.googleapis.com/ajax/libs/angularjs/1.5.6/angular-animate.js\"></script>\\n    <script src=\"https://ajax.googleapis.com/ajax/libs/angularjs/1.5.6/angular-aria.js\"></script>\\n    <script src=\"https://ajax.googleapis.com/ajax/libs/angularjs/1.5.6/angular-messages.js\"></script>\\n    <script src=\"https://ajax.googleapis.com/ajax/libs/angular_material/1.1.9/angular-material.js\"></script>\\n\\n    <script src=\"https://cdnjs.cloudflare.com/ajax/libs/socket.io/1.7.2/socket.io.js\"></script>\\n    <script src=\"https://cdnjs.cloudflare.com/ajax/libs/angular-socket-io/0.7.0/socket.js\"></script>\\n\\n    <script src=\"https://cdn.rawgit.com/daniel-nagy/md-data-table/master/dist/md-data-table.min.js\"></script>\\n    <script src=\"https://ajax.googleapis.com/ajax/libs/angularjs/1.5.6/angular-touch.js\"></script>\\n    <script src=\"https://cdn.rawgit.com/revolunet/angular-carousel/master/dist/angular-carousel.js\"></script>\\n    <script src=\"https://cdn.rawgit.com/Luegg/angularjs-scroll-glue/master/src/scrollglue.js\"></script>\\n    <script src=\"https://cdn.rawgit.com/zenorocha/clipboard.js/master/dist/clipboard.min.js\"></script>\\n    <script src=\"/components/ngclipboard/dist/ngclipboard.min.js\"></script>\\n    <script src=\"https://rawgit.com/chieffancypants/angular-hotkeys/master/build/hotkeys.min.js\"></script>\\n    <script src=\"https://cdnjs.cloudflare.com/ajax/libs/angular-moment/1.3.0/angular-moment.min.js\"></script>\\n\\n    <!-- Main App -->\\n    <script src=\"js/app.js\"></script>\\n\\n    <!-- Controllers -->\\n    <script src=\"js/controllers/main.js\"></script>\\n    <script src=\"js/controllers/home.js\"></script>\\n    <script src=\"js/controllers/recipients.js\"></script>\\n    <script src=\"js/controllers/fact.js\"></script>\\n    <script src=\"js/controllers/facts.js\"></script>\\n    <script src=\"js/controllers/profile.js\"></script>\\n    <script src=\"js/controllers/console.js\"></script>\\n    <script src=\"js/controllers/conversation.js\"></script>\\n\\n    <!-- Services -->\\n    <script src=\"js/services/auth.service.js\"></script>\\n    <script src=\"js/services/api.service.js\"></script>\\n\\n    <!-- Factories -->\\n    <script src=\"js/factories/socket.factory.js\"></script>\\n\\n    <!-- Filters -->\\n    <script src=\"js/filters/tel.js\"></script>\\n    <script src=\"js/filters/time-format.js\"></script>\\n    <script src=\"js/filters/capitalize.js\"></script>\\n\\n    <!-- Directives -->\\n    <script src=\"js/directives/message.js\"></script>\\n    <script src=\"js/directives/recipients-list.js\"></script>\\n\\n    <script type=\"text/javascript\" src=\"https://cdn.rawgit.com/siddii/angular-timer/master/dist/angular-timer.min.js?_sm_au_=iVVqPPFnsnRMbVZ7\"></script>\\n    <script type=\"text/javascript\" src=\"components/moment/min/moment.min.js\"></script>\\n    <script type=\"text/javascript\" src=\"components/moment/min/locales.min.js\"></script>\\n    <script type=\"text/javascript\" src=\"components/humanize-duration/humanize-duration.js\"></script>\\n\\n    <script>\\n        /* global navigator */\\n        if (\\'serviceWorker\\' in navigator) {\\n            navigator.serviceWorker.register(\\'/config/service-worker.js\\').then(function(registration) {\\n                console.log(\\'Service Worker registered\\');\\n            }).catch(function(err) {\\n                console.log(\\'Service Worker registration failed: \\', err);\\n            });\\n        }\\n    </script>\\n\\n    <script>\\n        /* Google Analytics */\\n        (function(i, s, o, g, r, a, m) {\\n            i[\\'GoogleAnalyticsObject\\'] = r;\\n            i[r] = i[r] || function() {\\n                (i[r].q = i[r].q || []).push(arguments)\\n            }, i[r].l = 1 * new Date();\\n            a = s.createElement(o),\\n                m = s.getElementsByTagName(o)[0];\\n            a.async = 1;\\n            a.src = g;\\n            m.parentNode.insertBefore(a, m)\\n        })(window, document, \\'script\\', \\'https://www.google-analytics.com/analytics.js\\', \\'ga\\');\\n    </script>\\n\\n    <script async src=\"//pagead2.googlesyndication.com/pagead/js/adsbygoogle.js\"></script>\\n    <script>\\n        /* Google AdSense */\\n        (adsbygoogle = window.adsbygoogle || []).push({\\n            google_ad_client: \"ca-pub-9296849737273393\",\\n            enable_page_level_ads: true\\n        });\\n    </script>\\n\\n</body>'\n"
     ]
    }
   ],
   "source": [
    "#no auth\n",
    "cat_base='https://cat-fact.herokuapp.com'\n",
    "cat_endpoint='/facts/random'\n",
    "cat_response=requests.get(cat_base)\n",
    "print(cat_response.content)\n"
   ]
  }
 ],
 "metadata": {
  "kernelspec": {
   "display_name": ".venv",
   "language": "python",
   "name": "python3"
  },
  "language_info": {
   "codemirror_mode": {
    "name": "ipython",
    "version": 3
   },
   "file_extension": ".py",
   "mimetype": "text/x-python",
   "name": "python",
   "nbconvert_exporter": "python",
   "pygments_lexer": "ipython3",
   "version": "3.11.8"
  }
 },
 "nbformat": 4,
 "nbformat_minor": 2
}
