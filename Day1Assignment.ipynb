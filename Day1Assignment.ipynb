{
 "cells": [
  {
   "cell_type": "code",
   "execution_count": 2,
   "metadata": {},
   "outputs": [],
   "source": [
    "import datetime"
   ]
  },
  {
   "cell_type": "markdown",
   "metadata": {},
   "source": [
    "Exercise 1"
   ]
  },
  {
   "cell_type": "code",
   "execution_count": 3,
   "metadata": {},
   "outputs": [
    {
     "name": "stdout",
     "output_type": "stream",
     "text": [
      "2024-06-17 16:17:29.310213\n"
     ]
    }
   ],
   "source": [
    "#1\n",
    "now =datetime.datetime.now()\n",
    "print(now)"
   ]
  },
  {
   "cell_type": "code",
   "execution_count": 5,
   "metadata": {},
   "outputs": [
    {
     "name": "stdout",
     "output_type": "stream",
     "text": [
      "2024-06-17\n"
     ]
    }
   ],
   "source": [
    "#2\n",
    "print(now.strftime('%Y-%m-%d'))"
   ]
  },
  {
   "cell_type": "code",
   "execution_count": 17,
   "metadata": {},
   "outputs": [
    {
     "name": "stdout",
     "output_type": "stream",
     "text": [
      "235\n"
     ]
    }
   ],
   "source": [
    "#3\n",
    "birthday = \"2025-02-08\"\n",
    "date_object = datetime.datetime.strptime(birthday, '%Y-%m-%d')\n",
    "print((date_object-now).days)"
   ]
  },
  {
   "cell_type": "markdown",
   "metadata": {},
   "source": [
    "Exercise 2"
   ]
  },
  {
   "cell_type": "code",
   "execution_count": 20,
   "metadata": {},
   "outputs": [
    {
     "name": "stdout",
     "output_type": "stream",
     "text": [
      "Student1 B\n",
      "Student2 A\n",
      "Student3 C\n"
     ]
    }
   ],
   "source": [
    "#1\n",
    "dictStudent = {\n",
    "    \"Student1\":\"B\",\"Student2\":\"A\",\"Student3\":\"C\"\n",
    "}\n",
    "for k,v in dictStudent.items():\n",
    "    print(k,v)"
   ]
  },
  {
   "cell_type": "code",
   "execution_count": 21,
   "metadata": {},
   "outputs": [
    {
     "name": "stdout",
     "output_type": "stream",
     "text": [
      "Student1 B\n",
      "Student2 A\n",
      "Student3 C\n",
      "Student4 D\n"
     ]
    }
   ],
   "source": [
    "#2\n",
    "dictStudent[\"Student4\"] = \"D\"\n",
    "for k,v in dictStudent.items():\n",
    "    print(k,v)"
   ]
  },
  {
   "cell_type": "code",
   "execution_count": 26,
   "metadata": {},
   "outputs": [
    {
     "name": "stdout",
     "output_type": "stream",
     "text": [
      "Student1 {'Art': 'A', 'Science': 'D', 'English': 'B'}\n",
      "Student2 {'Art': 'C', 'Science': 'A', 'English': 'B'}\n",
      "Student3 {'Art': 'D', 'Science': 'D', 'English': 'D'}\n",
      "Student4 {'Art': 'A', 'Science': 'B', 'English': 'B'}\n"
     ]
    }
   ],
   "source": [
    "#3\n",
    "dictStudent[\"Student1\"]={\"Art\":\"A\",\"Science\":\"D\",\"English\":\"B\"}\n",
    "dictStudent[\"Student2\"]={\"Art\":\"C\",\"Science\":\"A\",\"English\":\"B\"}\n",
    "dictStudent[\"Student3\"]={\"Art\":\"D\",\"Science\":\"D\",\"English\":\"D\"}\n",
    "dictStudent[\"Student4\"]={\"Art\":\"A\",\"Science\":\"B\",\"English\":\"B\"}\n",
    "for k,v in dictStudent.items():\n",
    "    print(k,v)"
   ]
  },
  {
   "cell_type": "code",
   "execution_count": 28,
   "metadata": {},
   "outputs": [
    {
     "name": "stdout",
     "output_type": "stream",
     "text": [
      "{'Student1', 'Student2', 'Student4', 'Student3'}\n"
     ]
    }
   ],
   "source": [
    "#4\n",
    "my_set=set()\n",
    "for key in dictStudent.keys():\n",
    "    my_set.add(key)\n",
    "print(my_set)"
   ]
  },
  {
   "cell_type": "markdown",
   "metadata": {},
   "source": [
    "Exercise 3"
   ]
  },
  {
   "cell_type": "code",
   "execution_count": 29,
   "metadata": {},
   "outputs": [
    {
     "name": "stdout",
     "output_type": "stream",
     "text": [
      "['The', 'FitnessGram', 'Pacer', 'Test', 'is', 'a', 'multistage', 'aerobic', 'capacity', 'test', 'that', 'progressively', 'gets', 'more', 'difficult', 'as', 'it', 'continues.', 'The', '20', 'meter', 'pacer', 'test', 'will', 'begin', 'in', '30', 'seconds.', 'Line', 'up', 'at', 'the', 'start.', 'The', 'running', 'speed', 'starts', 'slowly', 'but', 'gets', 'faster', 'each', 'minute', 'after', 'you', 'hear', 'this', 'signal', 'bodeboop.', 'A', 'sing', 'lap', 'should', 'be', 'completed', 'every', 'time', 'you', 'hear', 'this', 'sound.', 'ding', 'Remember', 'to', 'run', 'in', 'a', 'straight', 'line', 'and', 'run', 'as', 'long', 'as', 'possible.', 'The', 'second', 'time', 'you', 'fail', 'to', 'complete', 'a', 'lap', 'before', 'the', 'sound,', 'your', 'test', 'is', 'over.', 'The', 'test', 'will', 'begin', 'on', 'the', 'word', 'start.', 'On', 'your', 'mark.', 'Get', 'ready!…', 'Start.', 'ding\\ufeff']\n"
     ]
    }
   ],
   "source": [
    "#1\n",
    "fitness=\"The FitnessGram Pacer Test is a multistage aerobic capacity test that progressively gets more difficult as it continues. The 20 meter pacer test will begin in 30 seconds. Line up at the start. The running speed starts slowly but gets faster each minute after you hear this signal bodeboop. A sing lap should be completed every time you hear this sound. ding Remember to run in a straight line and run as long as possible. The second time you fail to complete a lap before the sound, your test is over. The test will begin on the word start. On your mark. Get ready!… Start. ding﻿\"\n",
    "fitness_test = fitness.split()\n",
    "print(fitness_test)"
   ]
  },
  {
   "cell_type": "code",
   "execution_count": 30,
   "metadata": {},
   "outputs": [
    {
     "name": "stdout",
     "output_type": "stream",
     "text": [
      "The|FitnessGram|Pacer|Test|is|a|multistage|aerobic|capacity|test|that|progressively|gets|more|difficult|as|it|continues.|The|20|meter|pacer|test|will|begin|in|30|seconds.|Line|up|at|the|start.|The|running|speed|starts|slowly|but|gets|faster|each|minute|after|you|hear|this|signal|bodeboop.|A|sing|lap|should|be|completed|every|time|you|hear|this|sound.|ding|Remember|to|run|in|a|straight|line|and|run|as|long|as|possible.|The|second|time|you|fail|to|complete|a|lap|before|the|sound,|your|test|is|over.|The|test|will|begin|on|the|word|start.|On|your|mark.|Get|ready!…|Start.|ding﻿\n"
     ]
    }
   ],
   "source": [
    "#2\n",
    "str='|'.join(fitness_test)\n",
    "print(str)"
   ]
  },
  {
   "cell_type": "code",
   "execution_count": 31,
   "metadata": {},
   "outputs": [
    {
     "name": "stdout",
     "output_type": "stream",
     "text": [
      "38\n"
     ]
    }
   ],
   "source": [
    "#3\n",
    "count =0\n",
    "for i in str:\n",
    "    if i=='s':\n",
    "        count=count+1\n",
    "print(count)"
   ]
  },
  {
   "cell_type": "markdown",
   "metadata": {},
   "source": [
    "Exercise 4"
   ]
  },
  {
   "cell_type": "code",
   "execution_count": 39,
   "metadata": {},
   "outputs": [
    {
     "name": "stdout",
     "output_type": "stream",
     "text": [
      "[11, 0, 1, 2, 3, 4, 5, 6, 7, 8, 9]\n"
     ]
    }
   ],
   "source": [
    "#1\n",
    "list = [11,0,1,2,3,4,5,6,7,8,9]\n",
    "print(list)"
   ]
  },
  {
   "cell_type": "code",
   "execution_count": 40,
   "metadata": {},
   "outputs": [
    {
     "name": "stdout",
     "output_type": "stream",
     "text": [
      "[11, 0, 1, 2, 3, 4, 5, 6, 7, 8, 9, 10]\n"
     ]
    }
   ],
   "source": [
    "#2\n",
    "list.append(10)\n",
    "print(list)"
   ]
  },
  {
   "cell_type": "code",
   "execution_count": 41,
   "metadata": {},
   "outputs": [
    {
     "name": "stdout",
     "output_type": "stream",
     "text": [
      "[11, 0, 1, 2, 3, 4, 5, 6, 7, 8, 9]\n"
     ]
    }
   ],
   "source": [
    "#3\n",
    "list.remove(10)\n",
    "print(list)"
   ]
  },
  {
   "cell_type": "code",
   "execution_count": 42,
   "metadata": {},
   "outputs": [
    {
     "name": "stdout",
     "output_type": "stream",
     "text": [
      "[0, 1, 2, 3, 4, 5, 6, 7, 8, 9, 11]\n"
     ]
    }
   ],
   "source": [
    "#4\n",
    "list.sort()\n",
    "print(list)"
   ]
  }
 ],
 "metadata": {
  "language_info": {
   "name": "python"
  }
 },
 "nbformat": 4,
 "nbformat_minor": 2
}
