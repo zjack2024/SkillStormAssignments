{
 "cells": [
  {
   "cell_type": "code",
   "execution_count": 2,
   "metadata": {},
   "outputs": [],
   "source": [
    "class ComputerComponent:\n",
    "    def __init__(self,manufacturer,model,serial_number):\n",
    "        self.manufacturer=manufacturer\n",
    "        self.model=model\n",
    "        self.serial_number=serial_number\n",
    "    \n",
    "    def details(self):\n",
    "        return f\"{self.manufacturer} {self.model} {self.serial_number}\""
   ]
  },
  {
   "cell_type": "code",
   "execution_count": 3,
   "metadata": {},
   "outputs": [],
   "source": [
    "class CPU(ComputerComponent):\n",
    "    name=\"CPU\"\n",
    "    def __init__(self,manufacturer,model,serial_number,cores,clock_speed):\n",
    "        super.__init__(manufacturer,model,serial_number)\n",
    "        self.cores=cores\n",
    "        self.clock_speed=clock_speed\n",
    "    \n",
    "    def details(self):\n",
    "        return super.details() + f\" {self.cores} {self.clock_speed}\"\n",
    "    \n",
    "class Memory(ComputerComponent):\n",
    "    name=\"Memory\"\n",
    "    def __init__(self,manufacturer,model,serial_number,capacity):\n",
    "        super.__init__(manufacturer,model,serial_number)\n",
    "        self.capacity=capacity\n",
    "    \n",
    "    def details(self):\n",
    "        return super.details() + f\" {self.capacity}\"\n",
    "    \n",
    "class Storage(ComputerComponent):\n",
    "    name=\"Storage\"\n",
    "    def __init__(self,manufacturer,model,serial_number,size):\n",
    "        super.__init__(manufacturer,model,serial_number)\n",
    "        self.size=size\n",
    "    \n",
    "    def details(self):\n",
    "        return super.details() + f\" {self.size}\""
   ]
  },
  {
   "cell_type": "code",
   "execution_count": null,
   "metadata": {},
   "outputs": [],
   "source": [
    "class Computer():\n",
    "    def __init__(self,cpu,memory,storage):\n",
    "        if isinstance(cpu, ComputerComponent) & isinstance(memory, ComputerComponent)& isinstance(storage, ComputerComponent):\n",
    "            self.cpu=cpu\n",
    "            self.memory=memory\n",
    "            self.storage=storage\n",
    "        else:\n",
    "            print(\"This isn't a computer it's a potato\")\n",
    "        \n",
    "    def replace(self,component):\n",
    "        if component.name=='CPU':\n",
    "            self.cpu=component\n",
    "        elif component.name=='Memory':\n",
    "            self.memory=component\n",
    "        elif component.name=='Storage':\n",
    "            self.storage=component\n",
    "\n",
    "    def details(self):\n",
    "        return self.cpu.name + \" \" + self.cpu.details() + \"\\n\" + self.memory.name + \" \" + self.memory.details() + self.storage.name + \" \" + self.storage.details()"
   ]
  }
 ],
 "metadata": {
  "kernelspec": {
   "display_name": ".venv",
   "language": "python",
   "name": "python3"
  },
  "language_info": {
   "codemirror_mode": {
    "name": "ipython",
    "version": 3
   },
   "file_extension": ".py",
   "mimetype": "text/x-python",
   "name": "python",
   "nbconvert_exporter": "python",
   "pygments_lexer": "ipython3",
   "version": "3.11.8"
  }
 },
 "nbformat": 4,
 "nbformat_minor": 2
}
